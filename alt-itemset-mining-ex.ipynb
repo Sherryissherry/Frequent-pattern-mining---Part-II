{
 "cells": [
  {
   "cell_type": "markdown",
   "metadata": {},
   "source": [
    "#  Frequent Itemset Mining: Apriori Alternatives\n",
    "\n",
    "In this notebook, we will apply **apriori**, **FP-Growth**, and **maximal frequent itemset** methods on the congressional voting records dataset. You can learn more about this dataset here: https://archive.ics.uci.edu/ml/datasets/congressional+voting+records"
   ]
  },
  {
   "cell_type": "markdown",
   "metadata": {},
   "source": [
    " ### Import required Libraries"
   ]
  },
  {
   "cell_type": "code",
   "execution_count": 1,
   "metadata": {},
   "outputs": [],
   "source": [
    "import pandas as pd\n",
    "import numpy as np\n",
    "from mlxtend.preprocessing import TransactionEncoder\n",
    "from mlxtend.frequent_patterns import apriori, association_rules, fpgrowth, fpmax\n",
    "import matplotlib.pyplot as plt\n",
    "import os\n",
    "import sys\n",
    "%matplotlib inline"
   ]
  },
  {
   "cell_type": "markdown",
   "metadata": {},
   "source": [
    "### T1: Data Loading\n",
    "\n",
    "The data is located here: `/dsa/data/DSA-8410/association-mining/house-vote/house-votes-84.csv`\n"
   ]
  },
  {
   "cell_type": "code",
   "execution_count": 2,
   "metadata": {},
   "outputs": [
    {
     "data": {
      "text/html": [
       "<div>\n",
       "<style scoped>\n",
       "    .dataframe tbody tr th:only-of-type {\n",
       "        vertical-align: middle;\n",
       "    }\n",
       "\n",
       "    .dataframe tbody tr th {\n",
       "        vertical-align: top;\n",
       "    }\n",
       "\n",
       "    .dataframe thead th {\n",
       "        text-align: right;\n",
       "    }\n",
       "</style>\n",
       "<table border=\"1\" class=\"dataframe\">\n",
       "  <thead>\n",
       "    <tr style=\"text-align: right;\">\n",
       "      <th></th>\n",
       "      <th>Class Name</th>\n",
       "      <th>handicapped-infants</th>\n",
       "      <th>water-project-cost-sharing</th>\n",
       "      <th>adoption-of-the-budget-resolution</th>\n",
       "      <th>physician-fee-freeze</th>\n",
       "      <th>el-salvador-aid</th>\n",
       "      <th>religious-groups-in-schools</th>\n",
       "      <th>anti-satellite-test-ban</th>\n",
       "      <th>aid-to-nicaraguan-contras</th>\n",
       "      <th>mx-missile</th>\n",
       "      <th>immigration</th>\n",
       "      <th>synfuels-corporation-cutback</th>\n",
       "      <th>education-spending</th>\n",
       "      <th>superfund-right-to-sue</th>\n",
       "      <th>crime</th>\n",
       "      <th>duty-free-exports</th>\n",
       "      <th>export-administration-act-south-africa</th>\n",
       "    </tr>\n",
       "  </thead>\n",
       "  <tbody>\n",
       "    <tr>\n",
       "      <th>0</th>\n",
       "      <td>republican</td>\n",
       "      <td>n</td>\n",
       "      <td>y</td>\n",
       "      <td>n</td>\n",
       "      <td>y</td>\n",
       "      <td>y</td>\n",
       "      <td>y</td>\n",
       "      <td>n</td>\n",
       "      <td>n</td>\n",
       "      <td>n</td>\n",
       "      <td>y</td>\n",
       "      <td>?</td>\n",
       "      <td>y</td>\n",
       "      <td>y</td>\n",
       "      <td>y</td>\n",
       "      <td>n</td>\n",
       "      <td>y</td>\n",
       "    </tr>\n",
       "    <tr>\n",
       "      <th>1</th>\n",
       "      <td>republican</td>\n",
       "      <td>n</td>\n",
       "      <td>y</td>\n",
       "      <td>n</td>\n",
       "      <td>y</td>\n",
       "      <td>y</td>\n",
       "      <td>y</td>\n",
       "      <td>n</td>\n",
       "      <td>n</td>\n",
       "      <td>n</td>\n",
       "      <td>n</td>\n",
       "      <td>n</td>\n",
       "      <td>y</td>\n",
       "      <td>y</td>\n",
       "      <td>y</td>\n",
       "      <td>n</td>\n",
       "      <td>?</td>\n",
       "    </tr>\n",
       "    <tr>\n",
       "      <th>2</th>\n",
       "      <td>democrat</td>\n",
       "      <td>?</td>\n",
       "      <td>y</td>\n",
       "      <td>y</td>\n",
       "      <td>?</td>\n",
       "      <td>y</td>\n",
       "      <td>y</td>\n",
       "      <td>n</td>\n",
       "      <td>n</td>\n",
       "      <td>n</td>\n",
       "      <td>n</td>\n",
       "      <td>y</td>\n",
       "      <td>n</td>\n",
       "      <td>y</td>\n",
       "      <td>y</td>\n",
       "      <td>n</td>\n",
       "      <td>n</td>\n",
       "    </tr>\n",
       "    <tr>\n",
       "      <th>3</th>\n",
       "      <td>democrat</td>\n",
       "      <td>n</td>\n",
       "      <td>y</td>\n",
       "      <td>y</td>\n",
       "      <td>n</td>\n",
       "      <td>?</td>\n",
       "      <td>y</td>\n",
       "      <td>n</td>\n",
       "      <td>n</td>\n",
       "      <td>n</td>\n",
       "      <td>n</td>\n",
       "      <td>y</td>\n",
       "      <td>n</td>\n",
       "      <td>y</td>\n",
       "      <td>n</td>\n",
       "      <td>n</td>\n",
       "      <td>y</td>\n",
       "    </tr>\n",
       "    <tr>\n",
       "      <th>4</th>\n",
       "      <td>democrat</td>\n",
       "      <td>y</td>\n",
       "      <td>y</td>\n",
       "      <td>y</td>\n",
       "      <td>n</td>\n",
       "      <td>y</td>\n",
       "      <td>y</td>\n",
       "      <td>n</td>\n",
       "      <td>n</td>\n",
       "      <td>n</td>\n",
       "      <td>n</td>\n",
       "      <td>y</td>\n",
       "      <td>?</td>\n",
       "      <td>y</td>\n",
       "      <td>y</td>\n",
       "      <td>y</td>\n",
       "      <td>y</td>\n",
       "    </tr>\n",
       "  </tbody>\n",
       "</table>\n",
       "</div>"
      ],
      "text/plain": [
       "   Class Name  handicapped-infants  water-project-cost-sharing  \\\n",
       "0  republican                    n                           y   \n",
       "1  republican                    n                           y   \n",
       "2    democrat                    ?                           y   \n",
       "3    democrat                    n                           y   \n",
       "4    democrat                    y                           y   \n",
       "\n",
       "   adoption-of-the-budget-resolution  physician-fee-freeze  el-salvador-aid  \\\n",
       "0                                  n                     y                y   \n",
       "1                                  n                     y                y   \n",
       "2                                  y                     ?                y   \n",
       "3                                  y                     n                ?   \n",
       "4                                  y                     n                y   \n",
       "\n",
       "   religious-groups-in-schools  anti-satellite-test-ban  \\\n",
       "0                            y                        n   \n",
       "1                            y                        n   \n",
       "2                            y                        n   \n",
       "3                            y                        n   \n",
       "4                            y                        n   \n",
       "\n",
       "   aid-to-nicaraguan-contras  mx-missile  immigration  \\\n",
       "0                          n           n            y   \n",
       "1                          n           n            n   \n",
       "2                          n           n            n   \n",
       "3                          n           n            n   \n",
       "4                          n           n            n   \n",
       "\n",
       "   synfuels-corporation-cutback  education-spending  superfund-right-to-sue  \\\n",
       "0                             ?                   y                       y   \n",
       "1                             n                   y                       y   \n",
       "2                             y                   n                       y   \n",
       "3                             y                   n                       y   \n",
       "4                             y                   ?                       y   \n",
       "\n",
       "   crime  duty-free-exports  export-administration-act-south-africa  \n",
       "0      y                  n                                       y  \n",
       "1      y                  n                                       ?  \n",
       "2      y                  n                                       n  \n",
       "3      n                  n                                       y  \n",
       "4      y                  y                                       y  "
      ]
     },
     "execution_count": 2,
     "metadata": {},
     "output_type": "execute_result"
    }
   ],
   "source": [
    "df = pd.read_csv(\"/dsa/data/DSA-8410/association-mining/house-vote/house-votes-84.csv\")\n",
    "df.head(5)"
   ]
  },
  {
   "cell_type": "markdown",
   "metadata": {},
   "source": [
    "### T2: Show the number of transactions"
   ]
  },
  {
   "cell_type": "code",
   "execution_count": 3,
   "metadata": {},
   "outputs": [
    {
     "name": "stdout",
     "output_type": "stream",
     "text": [
      "Num of transactions = 435\n",
      "Maximum num of items per transaction = 17\n"
     ]
    }
   ],
   "source": [
    "print(f\"Num of transactions = {df.shape[0]}\")\n",
    "print(f\"Maximum num of items per transaction = {df.shape[1]}\")"
   ]
  },
  {
   "cell_type": "code",
   "execution_count": 4,
   "metadata": {},
   "outputs": [
    {
     "data": {
      "text/plain": [
       "{'?', 'democrat', 'n', 'republican', 'y'}"
      ]
     },
     "execution_count": 4,
     "metadata": {},
     "output_type": "execute_result"
    }
   ],
   "source": [
    "set(df.values.flatten())"
   ]
  },
  {
   "cell_type": "markdown",
   "metadata": {},
   "source": [
    "### T3: Transform the dataset to a binary incidence matrix for applying itemset mining methods"
   ]
  },
  {
   "cell_type": "code",
   "execution_count": 5,
   "metadata": {},
   "outputs": [],
   "source": [
    "from sklearn.preprocessing import MultiLabelBinarizer\n",
    "\n",
    "trans_data = []\n",
    "for indx, row in df.iterrows():\n",
    "    trans_data.append(row.dropna().values)\n",
    "\n",
    "mlb = MultiLabelBinarizer()\n",
    "\n",
    "df = pd.DataFrame(trans_data)\n",
    "for column in df.columns:\n",
    "    if column == 0:\n",
    "        continue\n",
    "    df[column] = df[0]+ \"_\" + df[column]\n",
    "    \n",
    "df = df.drop(0,axis=1)\n",
    "\n",
    "trans_data = df.values.tolist()"
   ]
  },
  {
   "cell_type": "code",
   "execution_count": 6,
   "metadata": {},
   "outputs": [
    {
     "data": {
      "text/plain": [
       "array(['democrat_?', 'democrat_n', 'democrat_y', 'republican_?',\n",
       "       'republican_n', 'republican_y'], dtype=object)"
      ]
     },
     "execution_count": 6,
     "metadata": {},
     "output_type": "execute_result"
    }
   ],
   "source": [
    "data = mlb.fit_transform(trans_data)\n",
    "mlb.classes_"
   ]
  },
  {
   "cell_type": "code",
   "execution_count": 7,
   "metadata": {},
   "outputs": [
    {
     "name": "stdout",
     "output_type": "stream",
     "text": [
      "     democrat_?  democrat_n  democrat_y  republican_?  republican_n  \\\n",
      "0             0           0           0             1             1   \n",
      "1             0           0           0             1             1   \n",
      "2             1           1           1             0             0   \n",
      "3             1           1           1             0             0   \n",
      "4             1           1           1             0             0   \n",
      "..          ...         ...         ...           ...           ...   \n",
      "430           0           0           0             0             1   \n",
      "431           0           1           1             0             0   \n",
      "432           0           0           0             1             1   \n",
      "433           0           0           0             1             1   \n",
      "434           0           0           0             1             1   \n",
      "\n",
      "     republican_y  \n",
      "0               1  \n",
      "1               1  \n",
      "2               0  \n",
      "3               0  \n",
      "4               0  \n",
      "..            ...  \n",
      "430             1  \n",
      "431             0  \n",
      "432             1  \n",
      "433             1  \n",
      "434             1  \n",
      "\n",
      "[435 rows x 6 columns]\n"
     ]
    }
   ],
   "source": [
    "trans_data_enc = pd.DataFrame(data, columns=mlb.classes_)\n",
    "trans_data_enc.head()\n",
    "print(trans_data_enc)"
   ]
  },
  {
   "cell_type": "markdown",
   "metadata": {},
   "source": [
    "### T4: Indentify Frequent Patterns with FP-Growth Method. Use min_support = 0.3. Show the number of itemsets per itemset length."
   ]
  },
  {
   "cell_type": "code",
   "execution_count": 8,
   "metadata": {},
   "outputs": [],
   "source": [
    "frequent_itemsets = fpgrowth(trans_data_enc, min_support=0.3, use_colnames=True)"
   ]
  },
  {
   "cell_type": "code",
   "execution_count": 9,
   "metadata": {},
   "outputs": [
    {
     "name": "stdout",
     "output_type": "stream",
     "text": [
      "    support                              itemsets\n",
      "0  0.383908                        (republican_y)\n",
      "1  0.383908                        (republican_n)\n",
      "2  0.613793                          (democrat_y)\n",
      "3  0.611494                          (democrat_n)\n",
      "4  0.328736                          (democrat_?)\n",
      "5  0.383908          (republican_n, republican_y)\n",
      "6  0.611494              (democrat_y, democrat_n)\n",
      "7  0.328736              (democrat_y, democrat_?)\n",
      "8  0.326437              (democrat_?, democrat_n)\n",
      "9  0.326437  (democrat_y, democrat_?, democrat_n)\n"
     ]
    }
   ],
   "source": [
    "print(frequent_itemsets)"
   ]
  },
  {
   "cell_type": "code",
   "execution_count": 10,
   "metadata": {},
   "outputs": [],
   "source": [
    "frequent_itemsets['itemset_length'] = frequent_itemsets['itemsets'].apply(lambda x: len(x))\n",
    "itemsets_per_length = frequent_itemsets.groupby('itemset_length').size()"
   ]
  },
  {
   "cell_type": "code",
   "execution_count": 11,
   "metadata": {},
   "outputs": [
    {
     "name": "stdout",
     "output_type": "stream",
     "text": [
      "itemset_length\n",
      "1    5\n",
      "2    4\n",
      "3    1\n",
      "dtype: int64\n"
     ]
    }
   ],
   "source": [
    "print(itemsets_per_length)"
   ]
  },
  {
   "cell_type": "markdown",
   "metadata": {},
   "source": [
    "### T5: Generate Association Rules from Frequent Itemsets with min 90% confidence.\n",
    "\n",
    "* Show the total number of rules"
   ]
  },
  {
   "cell_type": "code",
   "execution_count": 12,
   "metadata": {},
   "outputs": [
    {
     "name": "stdout",
     "output_type": "stream",
     "text": [
      "                antecedents               consequents  antecedent support  \\\n",
      "0            (republican_n)            (republican_y)            0.383908   \n",
      "1            (republican_y)            (republican_n)            0.383908   \n",
      "2              (democrat_y)              (democrat_n)            0.613793   \n",
      "3              (democrat_n)              (democrat_y)            0.611494   \n",
      "4              (democrat_?)              (democrat_y)            0.328736   \n",
      "5              (democrat_?)              (democrat_n)            0.328736   \n",
      "6  (democrat_y, democrat_?)              (democrat_n)            0.328736   \n",
      "7  (democrat_?, democrat_n)              (democrat_y)            0.326437   \n",
      "8              (democrat_?)  (democrat_y, democrat_n)            0.328736   \n",
      "\n",
      "   consequent support   support  confidence      lift  leverage  conviction  \n",
      "0            0.383908  0.383908    1.000000  2.604790  0.236523         inf  \n",
      "1            0.383908  0.383908    1.000000  2.604790  0.236523         inf  \n",
      "2            0.611494  0.611494    0.996255  1.629213  0.236163  103.731034  \n",
      "3            0.613793  0.611494    1.000000  1.629213  0.236163         inf  \n",
      "4            0.613793  0.328736    1.000000  1.629213  0.126960         inf  \n",
      "5            0.611494  0.326437    0.993007  1.623902  0.125417   55.556322  \n",
      "6            0.611494  0.326437    0.993007  1.623902  0.125417   55.556322  \n",
      "7            0.613793  0.326437    1.000000  1.629213  0.126072         inf  \n",
      "8            0.611494  0.326437    0.993007  1.623902  0.125417   55.556322  \n"
     ]
    }
   ],
   "source": [
    "rules = association_rules(frequent_itemsets, metric=\"confidence\", min_threshold=0.9)\n",
    "rules.head()\n",
    "print(rules)"
   ]
  },
  {
   "cell_type": "code",
   "execution_count": 13,
   "metadata": {},
   "outputs": [
    {
     "data": {
      "text/html": [
       "<div>\n",
       "<style scoped>\n",
       "    .dataframe tbody tr th:only-of-type {\n",
       "        vertical-align: middle;\n",
       "    }\n",
       "\n",
       "    .dataframe tbody tr th {\n",
       "        vertical-align: top;\n",
       "    }\n",
       "\n",
       "    .dataframe thead th {\n",
       "        text-align: right;\n",
       "    }\n",
       "</style>\n",
       "<table border=\"1\" class=\"dataframe\">\n",
       "  <thead>\n",
       "    <tr style=\"text-align: right;\">\n",
       "      <th></th>\n",
       "      <th>antecedents</th>\n",
       "      <th>consequents</th>\n",
       "      <th>antecedent support</th>\n",
       "      <th>consequent support</th>\n",
       "      <th>support</th>\n",
       "      <th>confidence</th>\n",
       "      <th>lift</th>\n",
       "      <th>leverage</th>\n",
       "      <th>conviction</th>\n",
       "    </tr>\n",
       "  </thead>\n",
       "  <tbody>\n",
       "    <tr>\n",
       "      <th>0</th>\n",
       "      <td>(republican_n)</td>\n",
       "      <td>(republican_y)</td>\n",
       "      <td>0.383908</td>\n",
       "      <td>0.383908</td>\n",
       "      <td>0.383908</td>\n",
       "      <td>1.0</td>\n",
       "      <td>2.604790</td>\n",
       "      <td>0.236523</td>\n",
       "      <td>inf</td>\n",
       "    </tr>\n",
       "    <tr>\n",
       "      <th>1</th>\n",
       "      <td>(republican_y)</td>\n",
       "      <td>(republican_n)</td>\n",
       "      <td>0.383908</td>\n",
       "      <td>0.383908</td>\n",
       "      <td>0.383908</td>\n",
       "      <td>1.0</td>\n",
       "      <td>2.604790</td>\n",
       "      <td>0.236523</td>\n",
       "      <td>inf</td>\n",
       "    </tr>\n",
       "    <tr>\n",
       "      <th>3</th>\n",
       "      <td>(democrat_n)</td>\n",
       "      <td>(democrat_y)</td>\n",
       "      <td>0.611494</td>\n",
       "      <td>0.613793</td>\n",
       "      <td>0.611494</td>\n",
       "      <td>1.0</td>\n",
       "      <td>1.629213</td>\n",
       "      <td>0.236163</td>\n",
       "      <td>inf</td>\n",
       "    </tr>\n",
       "    <tr>\n",
       "      <th>4</th>\n",
       "      <td>(democrat_?)</td>\n",
       "      <td>(democrat_y)</td>\n",
       "      <td>0.328736</td>\n",
       "      <td>0.613793</td>\n",
       "      <td>0.328736</td>\n",
       "      <td>1.0</td>\n",
       "      <td>1.629213</td>\n",
       "      <td>0.126960</td>\n",
       "      <td>inf</td>\n",
       "    </tr>\n",
       "    <tr>\n",
       "      <th>7</th>\n",
       "      <td>(democrat_?, democrat_n)</td>\n",
       "      <td>(democrat_y)</td>\n",
       "      <td>0.326437</td>\n",
       "      <td>0.613793</td>\n",
       "      <td>0.326437</td>\n",
       "      <td>1.0</td>\n",
       "      <td>1.629213</td>\n",
       "      <td>0.126072</td>\n",
       "      <td>inf</td>\n",
       "    </tr>\n",
       "  </tbody>\n",
       "</table>\n",
       "</div>"
      ],
      "text/plain": [
       "                antecedents     consequents  antecedent support  \\\n",
       "0            (republican_n)  (republican_y)            0.383908   \n",
       "1            (republican_y)  (republican_n)            0.383908   \n",
       "3              (democrat_n)    (democrat_y)            0.611494   \n",
       "4              (democrat_?)    (democrat_y)            0.328736   \n",
       "7  (democrat_?, democrat_n)    (democrat_y)            0.326437   \n",
       "\n",
       "   consequent support   support  confidence      lift  leverage  conviction  \n",
       "0            0.383908  0.383908         1.0  2.604790  0.236523         inf  \n",
       "1            0.383908  0.383908         1.0  2.604790  0.236523         inf  \n",
       "3            0.613793  0.611494         1.0  1.629213  0.236163         inf  \n",
       "4            0.613793  0.328736         1.0  1.629213  0.126960         inf  \n",
       "7            0.613793  0.326437         1.0  1.629213  0.126072         inf  "
      ]
     },
     "execution_count": 13,
     "metadata": {},
     "output_type": "execute_result"
    }
   ],
   "source": [
    "rules.sort_values(by=['conviction'], ascending=False).head()"
   ]
  },
  {
   "cell_type": "markdown",
   "metadata": {},
   "source": [
    "### T6: Identify the top 5 rules with high confidence where `consequents` are only `Class Name_democrat`. Similarly, infer the top 5 rules with high confidence where `consequents` are only `Class Name_republican`. \n",
    "\n",
    "* Iterate over these two subsets of rules and print only antecedents, consequents, and confidence.\n",
    "* Based on these rules, characterize democrat and republican congress members"
   ]
  },
  {
   "cell_type": "code",
   "execution_count": 19,
   "metadata": {},
   "outputs": [
    {
     "name": "stdout",
     "output_type": "stream",
     "text": [
      "0              (republican_y)\n",
      "1              (republican_n)\n",
      "2                (democrat_n)\n",
      "3                (democrat_y)\n",
      "4                (democrat_y)\n",
      "5                (democrat_n)\n",
      "6                (democrat_n)\n",
      "7                (democrat_y)\n",
      "8    (democrat_y, democrat_n)\n",
      "Name: consequents, dtype: object\n",
      "                antecedents               consequents  antecedent support  \\\n",
      "3              (democrat_n)              (democrat_y)            0.611494   \n",
      "4              (democrat_?)              (democrat_y)            0.328736   \n",
      "7  (democrat_?, democrat_n)              (democrat_y)            0.326437   \n",
      "8              (democrat_?)  (democrat_y, democrat_n)            0.328736   \n",
      "\n",
      "   consequent support   support  confidence      lift  leverage  conviction  \n",
      "3            0.613793  0.611494    1.000000  1.629213  0.236163         inf  \n",
      "4            0.613793  0.328736    1.000000  1.629213  0.126960         inf  \n",
      "7            0.613793  0.326437    1.000000  1.629213  0.126072         inf  \n",
      "8            0.611494  0.326437    0.993007  1.623902  0.125417   55.556322  \n"
     ]
    }
   ],
   "source": [
    "rules_democrat = rules[rules['consequents'].apply(lambda x: 'democrat_y' in x)]\n",
    "\n",
    "print(rules[\"consequents\"])\n",
    "\n",
    "rules_democrat_top5 = rules_democrat.nlargest(5, 'confidence')[['antecedents', 'consequents', 'confidence']]\n",
    "print(rules_democrat)"
   ]
  },
  {
   "cell_type": "code",
   "execution_count": 20,
   "metadata": {},
   "outputs": [],
   "source": [
    "rules_republican = rules[rules['consequents'].apply(lambda x: 'republican' in x)]\n",
    "rules_republican_top5 = rules_republican.nlargest(5, 'confidence')[['antecedents', 'consequents', 'confidence']]"
   ]
  },
  {
   "cell_type": "code",
   "execution_count": 21,
   "metadata": {},
   "outputs": [
    {
     "name": "stdout",
     "output_type": "stream",
     "text": [
      "Top 5 rules with consequents as democrat:\n",
      "                antecedents               consequents  confidence\n",
      "3              (democrat_n)              (democrat_y)    1.000000\n",
      "4              (democrat_?)              (democrat_y)    1.000000\n",
      "7  (democrat_?, democrat_n)              (democrat_y)    1.000000\n",
      "8              (democrat_?)  (democrat_y, democrat_n)    0.993007\n"
     ]
    }
   ],
   "source": [
    "print(\"Top 5 rules with consequents as democrat:\")\n",
    "print(rules_democrat_top5)"
   ]
  },
  {
   "cell_type": "code",
   "execution_count": 22,
   "metadata": {},
   "outputs": [
    {
     "name": "stdout",
     "output_type": "stream",
     "text": [
      "\n",
      "Top 5 rules with consequents as republican:\n",
      "Empty DataFrame\n",
      "Columns: [antecedents, consequents, confidence]\n",
      "Index: []\n"
     ]
    }
   ],
   "source": [
    "print(\"\\nTop 5 rules with consequents as republican:\")\n",
    "print(rules_republican_top5)"
   ]
  },
  {
   "cell_type": "markdown",
   "metadata": {},
   "source": [
    "### T7. Show the number of maximal frequent itemsets for min support = 0.3 "
   ]
  },
  {
   "cell_type": "code",
   "execution_count": 23,
   "metadata": {},
   "outputs": [],
   "source": [
    "max_patterns = fpmax(trans_data_enc, min_support=0.3, use_colnames=True)"
   ]
  },
  {
   "cell_type": "code",
   "execution_count": 24,
   "metadata": {},
   "outputs": [],
   "source": [
    "max_patterns = max_patterns.rename(columns={'itemsets': 'itemsets', 'support': 'support'})\n",
    "max_patterns['length'] = max_patterns['itemsets'].apply(lambda x: len(x) if isinstance(x, (set, list)) else 0)"
   ]
  },
  {
   "cell_type": "code",
   "execution_count": 25,
   "metadata": {},
   "outputs": [
    {
     "name": "stdout",
     "output_type": "stream",
     "text": [
      "    support                              itemsets  length\n",
      "0  0.326437  (democrat_y, democrat_?, democrat_n)       0\n",
      "1  0.383908          (republican_n, republican_y)       0\n",
      "0    2\n",
      "Name: length, dtype: int64\n",
      "Total number of maximal frequent patterns = 2\n"
     ]
    }
   ],
   "source": [
    "print(max_patterns)\n",
    "length_counts = max_patterns['length'].value_counts()\n",
    "print(length_counts)\n",
    "print(f\"Total number of maximal frequent patterns = {max_patterns.shape[0]}\")"
   ]
  },
  {
   "cell_type": "markdown",
   "metadata": {},
   "source": [
    "# Save your notebook, then `File > Close and Halt`"
   ]
  },
  {
   "cell_type": "code",
   "execution_count": null,
   "metadata": {},
   "outputs": [],
   "source": []
  }
 ],
 "metadata": {
  "kernelspec": {
   "display_name": "Python 3",
   "language": "python",
   "name": "python3"
  },
  "language_info": {
   "codemirror_mode": {
    "name": "ipython",
    "version": 3
   },
   "file_extension": ".py",
   "mimetype": "text/x-python",
   "name": "python",
   "nbconvert_exporter": "python",
   "pygments_lexer": "ipython3",
   "version": "3.7.3"
  }
 },
 "nbformat": 4,
 "nbformat_minor": 4
}
